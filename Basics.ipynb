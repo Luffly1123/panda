{
 "cells": [
  {
   "cell_type": "code",
   "execution_count": 31,
   "metadata": {
    "collapsed": false
   },
   "outputs": [],
   "source": [
    "from pandas import *\n",
    "import pandas as pd\n",
    "import numpy as np\n",
    "import matplotlib.pyplot as plt\n",
    "\n",
    "def side_by_side(*objs, **kwds):\n",
    "    from pandas.core.common import adjoin\n",
    "    space = kwds.get('space', 4)\n",
    "    reprs = [repr(obj).split('\\n') for obj in objs]\n",
    "    print adjoin(space, *reprs)"
   ]
  },
  {
   "cell_type": "markdown",
   "metadata": {},
   "source": [
    "Series\n",
    "======"
   ]
  },
  {
   "cell_type": "code",
   "execution_count": 10,
   "metadata": {
    "collapsed": false
   },
   "outputs": [
    {
     "data": {
      "text/plain": [
       "a   -0.065290\n",
       "b   -0.936826\n",
       "c   -1.484684\n",
       "d    0.259083\n",
       "e    1.159198\n",
       "dtype: float64"
      ]
     },
     "execution_count": 10,
     "metadata": {},
     "output_type": "execute_result"
    }
   ],
   "source": [
    "labels = ['a', 'b', 'c', 'd', 'e']\n",
    "s = Series(np.random.randn(5), index=labels)\n",
    "s"
   ]
  },
  {
   "cell_type": "code",
   "execution_count": 16,
   "metadata": {
    "collapsed": false
   },
   "outputs": [
    {
     "data": {
      "text/plain": [
       "{'a': -0.065289626566906234,\n",
       " 'b': -0.93682585219268655,\n",
       " 'c': -1.4846843245857406,\n",
       " 'd': 0.2590828082734638,\n",
       " 'e': 1.1591978126950462}"
      ]
     },
     "execution_count": 16,
     "metadata": {},
     "output_type": "execute_result"
    }
   ],
   "source": [
    "mapping = s.to_dict()\n",
    "mapping"
   ]
  },
  {
   "cell_type": "code",
   "execution_count": 24,
   "metadata": {
    "collapsed": false
   },
   "outputs": [
    {
     "data": {
      "text/plain": [
       "a   -0.065290\n",
       "b   -0.936826\n",
       "c   -1.484684\n",
       "d    0.259083\n",
       "f         NaN\n",
       "dtype: float64"
      ]
     },
     "execution_count": 24,
     "metadata": {},
     "output_type": "execute_result"
    }
   ],
   "source": [
    "s = Series(mapping, index = ['a','b', 'c', 'd', 'f'])\n",
    "s"
   ]
  },
  {
   "cell_type": "code",
   "execution_count": 3,
   "metadata": {
    "collapsed": false
   },
   "outputs": [],
   "source": [
    "'b' in s"
   ]
  },
  {
   "cell_type": "code",
   "execution_count": 25,
   "metadata": {
    "collapsed": false
   },
   "outputs": [
    {
     "data": {
      "text/plain": [
       "a    False\n",
       "b    False\n",
       "c    False\n",
       "d    False\n",
       "f     True\n",
       "dtype: bool"
      ]
     },
     "execution_count": 25,
     "metadata": {},
     "output_type": "execute_result"
    }
   ],
   "source": [
    "isnull(s)"
   ]
  },
  {
   "cell_type": "code",
   "execution_count": 26,
   "metadata": {
    "collapsed": false
   },
   "outputs": [
    {
     "data": {
      "text/plain": [
       "a   -0.065290\n",
       "b   -0.936826\n",
       "c   -1.484684\n",
       "d    0.259083\n",
       "dtype: float64"
      ]
     },
     "execution_count": 26,
     "metadata": {},
     "output_type": "execute_result"
    }
   ],
   "source": [
    "s[notnull(s)]"
   ]
  },
  {
   "cell_type": "code",
   "execution_count": 4,
   "metadata": {
    "collapsed": false
   },
   "outputs": [],
   "source": [
    "s['b']"
   ]
  },
  {
   "cell_type": "code",
   "execution_count": 5,
   "metadata": {
    "collapsed": false
   },
   "outputs": [],
   "source": [
    "s"
   ]
  },
  {
   "cell_type": "code",
   "execution_count": 6,
   "metadata": {
    "collapsed": false
   },
   "outputs": [],
   "source": [
    "mapping = s.to_dict()\n",
    "mapping"
   ]
  },
  {
   "cell_type": "code",
   "execution_count": 7,
   "metadata": {
    "collapsed": false
   },
   "outputs": [],
   "source": [
    "s = Series(mapping)\n",
    "s"
   ]
  },
  {
   "cell_type": "code",
   "execution_count": 27,
   "metadata": {
    "collapsed": false
   },
   "outputs": [
    {
     "data": {
      "text/plain": [
       "a   -0.065290\n",
       "b   -0.936826\n",
       "c   -1.484684\n",
       "dtype: float64"
      ]
     },
     "execution_count": 27,
     "metadata": {},
     "output_type": "execute_result"
    }
   ],
   "source": [
    "s[:3]"
   ]
  },
  {
   "cell_type": "code",
   "execution_count": 28,
   "metadata": {
    "collapsed": false
   },
   "outputs": [
    {
     "data": {
      "text/plain": [
       "Index([u'a', u'b', u'c', u'd', u'f'], dtype='object')"
      ]
     },
     "execution_count": 28,
     "metadata": {},
     "output_type": "execute_result"
    }
   ],
   "source": [
    "s.index"
   ]
  },
  {
   "cell_type": "markdown",
   "metadata": {},
   "source": [
    "DataFrame: 2D collection of Series\n",
    "=================================="
   ]
  },
  {
   "cell_type": "code",
   "execution_count": 32,
   "metadata": {
    "collapsed": false
   },
   "outputs": [
    {
     "data": {
      "text/html": [
       "<div style=\"max-height:1000px;max-width:1500px;overflow:auto;\">\n",
       "<table border=\"1\" class=\"dataframe\">\n",
       "  <thead>\n",
       "    <tr style=\"text-align: right;\">\n",
       "      <th></th>\n",
       "      <th>a</th>\n",
       "      <th>b</th>\n",
       "      <th>c</th>\n",
       "    </tr>\n",
       "  </thead>\n",
       "  <tbody>\n",
       "    <tr>\n",
       "      <th>0</th>\n",
       "      <td> 1.147247</td>\n",
       "      <td> foo</td>\n",
       "      <td> 1.055841</td>\n",
       "    </tr>\n",
       "    <tr>\n",
       "      <th>1</th>\n",
       "      <td>-0.575720</td>\n",
       "      <td> bar</td>\n",
       "      <td> 0.432459</td>\n",
       "    </tr>\n",
       "    <tr>\n",
       "      <th>2</th>\n",
       "      <td>-0.463252</td>\n",
       "      <td> foo</td>\n",
       "      <td>-0.743879</td>\n",
       "    </tr>\n",
       "    <tr>\n",
       "      <th>3</th>\n",
       "      <td>-0.371925</td>\n",
       "      <td> bar</td>\n",
       "      <td> 1.225403</td>\n",
       "    </tr>\n",
       "    <tr>\n",
       "      <th>4</th>\n",
       "      <td>-0.474976</td>\n",
       "      <td> foo</td>\n",
       "      <td> 0.051001</td>\n",
       "    </tr>\n",
       "    <tr>\n",
       "      <th>5</th>\n",
       "      <td> 0.460368</td>\n",
       "      <td> bar</td>\n",
       "      <td> 0.247980</td>\n",
       "    </tr>\n",
       "  </tbody>\n",
       "</table>\n",
       "</div>"
      ],
      "text/plain": [
       "          a    b         c\n",
       "0  1.147247  foo  1.055841\n",
       "1 -0.575720  bar  0.432459\n",
       "2 -0.463252  foo -0.743879\n",
       "3 -0.371925  bar  1.225403\n",
       "4 -0.474976  foo  0.051001\n",
       "5  0.460368  bar  0.247980"
      ]
     },
     "execution_count": 32,
     "metadata": {},
     "output_type": "execute_result"
    }
   ],
   "source": [
    "df = DataFrame({'a': np.random.randn(6),\n",
    "                'b': ['foo', 'bar'] * 3,\n",
    "                'c': np.random.randn(6)})\n",
    "df"
   ]
  },
  {
   "cell_type": "code",
   "execution_count": 42,
   "metadata": {
    "collapsed": false
   },
   "outputs": [
    {
     "data": {
      "text/plain": [
       "<pandas.core.indexing._IXIndexer at 0x109eea490>"
      ]
     },
     "execution_count": 42,
     "metadata": {},
     "output_type": "execute_result"
    }
   ],
   "source": [
    "df.ix"
   ]
  },
  {
   "cell_type": "code",
   "execution_count": 43,
   "metadata": {
    "collapsed": false
   },
   "outputs": [
    {
     "data": {
      "text/plain": [
       "Index([u'a', u'b', u'c'], dtype='object')"
      ]
     },
     "execution_count": 43,
     "metadata": {},
     "output_type": "execute_result"
    }
   ],
   "source": [
    "df.columns"
   ]
  },
  {
   "cell_type": "code",
   "execution_count": 46,
   "metadata": {
    "collapsed": false
   },
   "outputs": [
    {
     "data": {
      "text/html": [
       "<div style=\"max-height:1000px;max-width:1500px;overflow:auto;\">\n",
       "<table border=\"1\" class=\"dataframe\">\n",
       "  <thead>\n",
       "    <tr style=\"text-align: right;\">\n",
       "      <th></th>\n",
       "      <th>a</th>\n",
       "      <th>b</th>\n",
       "      <th>c</th>\n",
       "    </tr>\n",
       "  </thead>\n",
       "  <tbody>\n",
       "    <tr>\n",
       "      <th>2000-01-01</th>\n",
       "      <td>-0.143404</td>\n",
       "      <td> foo</td>\n",
       "      <td>-1.343915</td>\n",
       "    </tr>\n",
       "    <tr>\n",
       "      <th>2000-01-02</th>\n",
       "      <td> 0.556818</td>\n",
       "      <td> bar</td>\n",
       "      <td>-0.886236</td>\n",
       "    </tr>\n",
       "    <tr>\n",
       "      <th>2000-01-03</th>\n",
       "      <td>-0.034149</td>\n",
       "      <td> foo</td>\n",
       "      <td> 1.032379</td>\n",
       "    </tr>\n",
       "    <tr>\n",
       "      <th>2000-01-04</th>\n",
       "      <td> 0.565273</td>\n",
       "      <td> bar</td>\n",
       "      <td> 0.092938</td>\n",
       "    </tr>\n",
       "    <tr>\n",
       "      <th>2000-01-05</th>\n",
       "      <td>-0.164385</td>\n",
       "      <td> foo</td>\n",
       "      <td> 0.982198</td>\n",
       "    </tr>\n",
       "    <tr>\n",
       "      <th>2000-01-06</th>\n",
       "      <td> 0.230160</td>\n",
       "      <td> bar</td>\n",
       "      <td>-0.896309</td>\n",
       "    </tr>\n",
       "  </tbody>\n",
       "</table>\n",
       "</div>"
      ],
      "text/plain": [
       "                   a    b         c\n",
       "2000-01-01 -0.143404  foo -1.343915\n",
       "2000-01-02  0.556818  bar -0.886236\n",
       "2000-01-03 -0.034149  foo  1.032379\n",
       "2000-01-04  0.565273  bar  0.092938\n",
       "2000-01-05 -0.164385  foo  0.982198\n",
       "2000-01-06  0.230160  bar -0.896309"
      ]
     },
     "execution_count": 46,
     "metadata": {},
     "output_type": "execute_result"
    }
   ],
   "source": [
    "df = DataFrame({'a': np.random.randn(6),\n",
    "                'b': ['foo', 'bar'] * 3,\n",
    "                'c': np.random.randn(6)},\n",
    "               index=pd.date_range('1/1/2000', periods=6))\n",
    "df"
   ]
  },
  {
   "cell_type": "code",
   "execution_count": 14,
   "metadata": {
    "collapsed": false
   },
   "outputs": [],
   "source": [
    "df = DataFrame({'a': np.random.randn(6),\n",
    "                'b': ['foo', 'bar'] * 3,\n",
    "                'c': np.random.randn(6)},\n",
    "               columns=['a', 'b', 'c', 'd'])\n",
    "df"
   ]
  },
  {
   "cell_type": "markdown",
   "metadata": {},
   "source": [
    "Creation from nested dicts\n",
    "--------------------------\n",
    "\n",
    "These arise naturally in Python code"
   ]
  },
  {
   "cell_type": "code",
   "execution_count": 15,
   "metadata": {
    "collapsed": false
   },
   "outputs": [],
   "source": [
    "data = {}\n",
    "for col in ['foo', 'bar', 'baz']:\n",
    "    for row in ['a', 'b', 'c', 'd']:\n",
    "        data.setdefault(col, {})[row] = randn()\n",
    "data"
   ]
  },
  {
   "cell_type": "code",
   "execution_count": 16,
   "metadata": {
    "collapsed": false
   },
   "outputs": [],
   "source": [
    "DataFrame(data)"
   ]
  },
  {
   "cell_type": "markdown",
   "metadata": {},
   "source": [
    "Data alignment\n",
    "=============="
   ]
  },
  {
   "cell_type": "code",
   "execution_count": 47,
   "metadata": {
    "collapsed": true
   },
   "outputs": [],
   "source": [
    "close_px = read_csv('stock_data.csv', index_col=0, parse_dates=True)"
   ]
  },
  {
   "cell_type": "code",
   "execution_count": 48,
   "metadata": {
    "collapsed": false
   },
   "outputs": [
    {
     "data": {
      "text/html": [
       "<div style=\"max-height:1000px;max-width:1500px;overflow:auto;\">\n",
       "<table border=\"1\" class=\"dataframe\">\n",
       "  <thead>\n",
       "    <tr style=\"text-align: right;\">\n",
       "      <th></th>\n",
       "      <th>AA</th>\n",
       "      <th>AAPL</th>\n",
       "      <th>GE</th>\n",
       "      <th>IBM</th>\n",
       "      <th>JNJ</th>\n",
       "      <th>MSFT</th>\n",
       "      <th>PEP</th>\n",
       "      <th>SPX</th>\n",
       "      <th>XOM</th>\n",
       "    </tr>\n",
       "  </thead>\n",
       "  <tbody>\n",
       "    <tr>\n",
       "      <th>2007-10-29</th>\n",
       "      <td> 37.41</td>\n",
       "      <td> 185.09</td>\n",
       "      <td> 34.46</td>\n",
       "      <td> 106.78</td>\n",
       "      <td> 57.13</td>\n",
       "      <td> 31.78</td>\n",
       "      <td> 65.67</td>\n",
       "      <td> 1540.98</td>\n",
       "      <td> 85.51</td>\n",
       "    </tr>\n",
       "    <tr>\n",
       "      <th>2007-10-30</th>\n",
       "      <td> 36.43</td>\n",
       "      <td> 187.00</td>\n",
       "      <td> 34.39</td>\n",
       "      <td> 106.15</td>\n",
       "      <td> 56.99</td>\n",
       "      <td> 32.70</td>\n",
       "      <td> 65.80</td>\n",
       "      <td> 1531.02</td>\n",
       "      <td> 83.25</td>\n",
       "    </tr>\n",
       "    <tr>\n",
       "      <th>2007-10-31</th>\n",
       "      <td> 36.79</td>\n",
       "      <td> 189.95</td>\n",
       "      <td> 34.97</td>\n",
       "      <td> 108.01</td>\n",
       "      <td> 57.30</td>\n",
       "      <td> 33.84</td>\n",
       "      <td> 65.69</td>\n",
       "      <td> 1549.38</td>\n",
       "      <td> 84.03</td>\n",
       "    </tr>\n",
       "    <tr>\n",
       "      <th>2007-11-01</th>\n",
       "      <td> 35.22</td>\n",
       "      <td> 187.44</td>\n",
       "      <td> 34.27</td>\n",
       "      <td> 105.72</td>\n",
       "      <td> 56.85</td>\n",
       "      <td> 34.07</td>\n",
       "      <td> 64.51</td>\n",
       "      <td> 1508.44</td>\n",
       "      <td> 80.84</td>\n",
       "    </tr>\n",
       "    <tr>\n",
       "      <th>2007-11-02</th>\n",
       "      <td> 35.83</td>\n",
       "      <td> 187.87</td>\n",
       "      <td> 34.27</td>\n",
       "      <td> 106.59</td>\n",
       "      <td> 56.95</td>\n",
       "      <td> 34.07</td>\n",
       "      <td> 65.03</td>\n",
       "      <td> 1509.65</td>\n",
       "      <td> 80.32</td>\n",
       "    </tr>\n",
       "    <tr>\n",
       "      <th>2007-11-05</th>\n",
       "      <td> 35.22</td>\n",
       "      <td> 186.18</td>\n",
       "      <td> 34.15</td>\n",
       "      <td> 105.48</td>\n",
       "      <td> 56.70</td>\n",
       "      <td> 33.77</td>\n",
       "      <td> 64.84</td>\n",
       "      <td> 1502.17</td>\n",
       "      <td> 80.07</td>\n",
       "    </tr>\n",
       "    <tr>\n",
       "      <th>2007-11-06</th>\n",
       "      <td> 35.84</td>\n",
       "      <td> 191.79</td>\n",
       "      <td> 34.14</td>\n",
       "      <td> 105.27</td>\n",
       "      <td> 56.80</td>\n",
       "      <td> 33.47</td>\n",
       "      <td> 65.49</td>\n",
       "      <td> 1520.27</td>\n",
       "      <td> 82.56</td>\n",
       "    </tr>\n",
       "    <tr>\n",
       "      <th>2007-11-07</th>\n",
       "      <td> 34.76</td>\n",
       "      <td> 186.30</td>\n",
       "      <td> 33.20</td>\n",
       "      <td> 103.69</td>\n",
       "      <td> 56.19</td>\n",
       "      <td> 32.65</td>\n",
       "      <td> 64.46</td>\n",
       "      <td> 1475.62</td>\n",
       "      <td> 79.96</td>\n",
       "    </tr>\n",
       "    <tr>\n",
       "      <th>2007-11-08</th>\n",
       "      <td> 35.00</td>\n",
       "      <td> 175.47</td>\n",
       "      <td> 33.15</td>\n",
       "      <td>  99.05</td>\n",
       "      <td> 56.79</td>\n",
       "      <td> 31.94</td>\n",
       "      <td> 65.50</td>\n",
       "      <td> 1474.77</td>\n",
       "      <td> 82.00</td>\n",
       "    </tr>\n",
       "    <tr>\n",
       "      <th>2007-11-09</th>\n",
       "      <td> 34.47</td>\n",
       "      <td> 165.37</td>\n",
       "      <td> 32.61</td>\n",
       "      <td>  93.58</td>\n",
       "      <td> 57.29</td>\n",
       "      <td> 31.01</td>\n",
       "      <td> 65.48</td>\n",
       "      <td> 1453.70</td>\n",
       "      <td> 79.64</td>\n",
       "    </tr>\n",
       "    <tr>\n",
       "      <th>2007-11-12</th>\n",
       "      <td> 33.33</td>\n",
       "      <td> 153.76</td>\n",
       "      <td> 32.50</td>\n",
       "      <td>  94.70</td>\n",
       "      <td> 58.30</td>\n",
       "      <td> 30.69</td>\n",
       "      <td> 64.67</td>\n",
       "      <td> 1439.18</td>\n",
       "      <td> 77.52</td>\n",
       "    </tr>\n",
       "    <tr>\n",
       "      <th>2007-11-13</th>\n",
       "      <td> 34.04</td>\n",
       "      <td> 169.96</td>\n",
       "      <td> 33.31</td>\n",
       "      <td>  98.27</td>\n",
       "      <td> 59.18</td>\n",
       "      <td> 31.79</td>\n",
       "      <td> 65.35</td>\n",
       "      <td> 1481.05</td>\n",
       "      <td> 79.67</td>\n",
       "    </tr>\n",
       "    <tr>\n",
       "      <th>2007-11-14</th>\n",
       "      <td> 34.25</td>\n",
       "      <td> 166.11</td>\n",
       "      <td> 33.14</td>\n",
       "      <td>  96.56</td>\n",
       "      <td> 58.81</td>\n",
       "      <td> 31.30</td>\n",
       "      <td> 65.99</td>\n",
       "      <td> 1470.58</td>\n",
       "      <td> 79.15</td>\n",
       "    </tr>\n",
       "    <tr>\n",
       "      <th>2007-11-15</th>\n",
       "      <td> 33.76</td>\n",
       "      <td> 164.30</td>\n",
       "      <td> 32.55</td>\n",
       "      <td>  96.71</td>\n",
       "      <td> 58.80</td>\n",
       "      <td> 31.14</td>\n",
       "      <td> 65.57</td>\n",
       "      <td> 1451.15</td>\n",
       "      <td> 77.48</td>\n",
       "    </tr>\n",
       "    <tr>\n",
       "      <th>2007-11-16</th>\n",
       "      <td> 33.74</td>\n",
       "      <td> 166.39</td>\n",
       "      <td> 32.84</td>\n",
       "      <td>  97.82</td>\n",
       "      <td> 59.56</td>\n",
       "      <td> 31.44</td>\n",
       "      <td> 66.08</td>\n",
       "      <td> 1458.74</td>\n",
       "      <td> 78.04</td>\n",
       "    </tr>\n",
       "    <tr>\n",
       "      <th>2007-11-19</th>\n",
       "      <td> 32.59</td>\n",
       "      <td> 163.95</td>\n",
       "      <td> 32.42</td>\n",
       "      <td>  95.42</td>\n",
       "      <td> 59.42</td>\n",
       "      <td> 31.32</td>\n",
       "      <td> 66.90</td>\n",
       "      <td> 1433.27</td>\n",
       "      <td> 77.13</td>\n",
       "    </tr>\n",
       "    <tr>\n",
       "      <th>2007-11-20</th>\n",
       "      <td> 32.88</td>\n",
       "      <td> 168.85</td>\n",
       "      <td> 32.32</td>\n",
       "      <td>  96.54</td>\n",
       "      <td> 59.47</td>\n",
       "      <td> 31.90</td>\n",
       "      <td> 66.69</td>\n",
       "      <td> 1439.70</td>\n",
       "      <td> 80.53</td>\n",
       "    </tr>\n",
       "    <tr>\n",
       "      <th>2007-11-21</th>\n",
       "      <td> 32.68</td>\n",
       "      <td> 168.46</td>\n",
       "      <td> 31.58</td>\n",
       "      <td>  95.42</td>\n",
       "      <td> 59.03</td>\n",
       "      <td> 31.57</td>\n",
       "      <td> 66.87</td>\n",
       "      <td> 1416.77</td>\n",
       "      <td> 79.82</td>\n",
       "    </tr>\n",
       "    <tr>\n",
       "      <th>2007-11-23</th>\n",
       "      <td> 32.66</td>\n",
       "      <td> 171.54</td>\n",
       "      <td> 32.01</td>\n",
       "      <td>  97.13</td>\n",
       "      <td> 59.16</td>\n",
       "      <td> 31.46</td>\n",
       "      <td> 67.29</td>\n",
       "      <td> 1440.70</td>\n",
       "      <td> 80.96</td>\n",
       "    </tr>\n",
       "    <tr>\n",
       "      <th>2007-11-26</th>\n",
       "      <td> 32.41</td>\n",
       "      <td> 172.54</td>\n",
       "      <td> 31.21</td>\n",
       "      <td>  95.19</td>\n",
       "      <td> 59.60</td>\n",
       "      <td> 30.41</td>\n",
       "      <td> 66.56</td>\n",
       "      <td> 1407.22</td>\n",
       "      <td> 78.57</td>\n",
       "    </tr>\n",
       "    <tr>\n",
       "      <th>2007-11-27</th>\n",
       "      <td> 32.56</td>\n",
       "      <td> 174.81</td>\n",
       "      <td> 31.82</td>\n",
       "      <td>  96.92</td>\n",
       "      <td> 59.92</td>\n",
       "      <td> 30.49</td>\n",
       "      <td> 67.65</td>\n",
       "      <td> 1428.23</td>\n",
       "      <td> 79.21</td>\n",
       "    </tr>\n",
       "    <tr>\n",
       "      <th>2007-11-28</th>\n",
       "      <td> 33.65</td>\n",
       "      <td> 180.22</td>\n",
       "      <td> 32.68</td>\n",
       "      <td> 100.23</td>\n",
       "      <td> 60.46</td>\n",
       "      <td> 31.08</td>\n",
       "      <td> 68.76</td>\n",
       "      <td> 1469.02</td>\n",
       "      <td> 80.62</td>\n",
       "    </tr>\n",
       "    <tr>\n",
       "      <th>2007-11-29</th>\n",
       "      <td> 33.97</td>\n",
       "      <td> 184.29</td>\n",
       "      <td> 32.40</td>\n",
       "      <td> 100.35</td>\n",
       "      <td> 60.51</td>\n",
       "      <td> 30.98</td>\n",
       "      <td> 68.20</td>\n",
       "      <td> 1469.72</td>\n",
       "      <td> 81.24</td>\n",
       "    </tr>\n",
       "    <tr>\n",
       "      <th>2007-11-30</th>\n",
       "      <td> 33.80</td>\n",
       "      <td> 182.22</td>\n",
       "      <td> 32.53</td>\n",
       "      <td>  98.18</td>\n",
       "      <td> 59.93</td>\n",
       "      <td> 30.99</td>\n",
       "      <td> 68.78</td>\n",
       "      <td> 1481.14</td>\n",
       "      <td> 81.76</td>\n",
       "    </tr>\n",
       "    <tr>\n",
       "      <th>2007-12-03</th>\n",
       "      <td> 32.98</td>\n",
       "      <td> 178.86</td>\n",
       "      <td> 31.38</td>\n",
       "      <td>  98.79</td>\n",
       "      <td> 59.90</td>\n",
       "      <td> 30.36</td>\n",
       "      <td> 68.24</td>\n",
       "      <td> 1472.42</td>\n",
       "      <td> 81.48</td>\n",
       "    </tr>\n",
       "    <tr>\n",
       "      <th>2007-12-04</th>\n",
       "      <td> 32.76</td>\n",
       "      <td> 179.81</td>\n",
       "      <td> 30.80</td>\n",
       "      <td>  99.54</td>\n",
       "      <td> 60.10</td>\n",
       "      <td> 30.23</td>\n",
       "      <td> 68.30</td>\n",
       "      <td> 1462.79</td>\n",
       "      <td> 80.81</td>\n",
       "    </tr>\n",
       "    <tr>\n",
       "      <th>2007-12-05</th>\n",
       "      <td> 33.09</td>\n",
       "      <td> 185.50</td>\n",
       "      <td> 31.19</td>\n",
       "      <td> 100.97</td>\n",
       "      <td> 60.34</td>\n",
       "      <td> 31.50</td>\n",
       "      <td> 68.30</td>\n",
       "      <td> 1485.01</td>\n",
       "      <td> 82.46</td>\n",
       "    </tr>\n",
       "    <tr>\n",
       "      <th>2007-12-06</th>\n",
       "      <td> 33.32</td>\n",
       "      <td> 189.95</td>\n",
       "      <td> 31.66</td>\n",
       "      <td> 102.40</td>\n",
       "      <td> 60.42</td>\n",
       "      <td> 31.87</td>\n",
       "      <td> 68.98</td>\n",
       "      <td> 1507.34</td>\n",
       "      <td> 83.85</td>\n",
       "    </tr>\n",
       "    <tr>\n",
       "      <th>2007-12-07</th>\n",
       "      <td> 34.30</td>\n",
       "      <td> 194.30</td>\n",
       "      <td> 31.63</td>\n",
       "      <td> 101.62</td>\n",
       "      <td> 59.87</td>\n",
       "      <td> 31.85</td>\n",
       "      <td> 68.95</td>\n",
       "      <td> 1504.66</td>\n",
       "      <td> 83.91</td>\n",
       "    </tr>\n",
       "    <tr>\n",
       "      <th>2007-12-10</th>\n",
       "      <td> 35.17</td>\n",
       "      <td> 194.21</td>\n",
       "      <td> 31.78</td>\n",
       "      <td> 102.11</td>\n",
       "      <td> 59.97</td>\n",
       "      <td> 32.06</td>\n",
       "      <td> 69.20</td>\n",
       "      <td> 1515.96</td>\n",
       "      <td> 84.39</td>\n",
       "    </tr>\n",
       "    <tr>\n",
       "      <th>...</th>\n",
       "      <td>...</td>\n",
       "      <td>...</td>\n",
       "      <td>...</td>\n",
       "      <td>...</td>\n",
       "      <td>...</td>\n",
       "      <td>...</td>\n",
       "      <td>...</td>\n",
       "      <td>...</td>\n",
       "      <td>...</td>\n",
       "    </tr>\n",
       "    <tr>\n",
       "      <th>2011-09-02</th>\n",
       "      <td> 12.04</td>\n",
       "      <td> 374.05</td>\n",
       "      <td> 15.61</td>\n",
       "      <td> 166.98</td>\n",
       "      <td> 64.07</td>\n",
       "      <td> 25.80</td>\n",
       "      <td> 63.30</td>\n",
       "      <td> 1173.97</td>\n",
       "      <td> 72.14</td>\n",
       "    </tr>\n",
       "    <tr>\n",
       "      <th>2011-09-06</th>\n",
       "      <td> 11.77</td>\n",
       "      <td> 379.74</td>\n",
       "      <td> 15.11</td>\n",
       "      <td> 165.11</td>\n",
       "      <td> 64.64</td>\n",
       "      <td> 25.51</td>\n",
       "      <td> 62.45</td>\n",
       "      <td> 1165.24</td>\n",
       "      <td> 71.15</td>\n",
       "    </tr>\n",
       "    <tr>\n",
       "      <th>2011-09-07</th>\n",
       "      <td> 12.25</td>\n",
       "      <td> 383.93</td>\n",
       "      <td> 15.65</td>\n",
       "      <td> 167.31</td>\n",
       "      <td> 65.43</td>\n",
       "      <td> 26.00</td>\n",
       "      <td> 61.62</td>\n",
       "      <td> 1198.62</td>\n",
       "      <td> 73.65</td>\n",
       "    </tr>\n",
       "    <tr>\n",
       "      <th>2011-09-08</th>\n",
       "      <td> 12.03</td>\n",
       "      <td> 384.14</td>\n",
       "      <td> 15.44</td>\n",
       "      <td> 165.25</td>\n",
       "      <td> 64.95</td>\n",
       "      <td> 26.22</td>\n",
       "      <td> 61.34</td>\n",
       "      <td> 1185.90</td>\n",
       "      <td> 72.82</td>\n",
       "    </tr>\n",
       "    <tr>\n",
       "      <th>2011-09-09</th>\n",
       "      <td> 11.58</td>\n",
       "      <td> 377.48</td>\n",
       "      <td> 14.95</td>\n",
       "      <td> 161.37</td>\n",
       "      <td> 63.64</td>\n",
       "      <td> 25.74</td>\n",
       "      <td> 59.99</td>\n",
       "      <td> 1154.23</td>\n",
       "      <td> 71.01</td>\n",
       "    </tr>\n",
       "    <tr>\n",
       "      <th>2011-09-12</th>\n",
       "      <td> 11.55</td>\n",
       "      <td> 379.94</td>\n",
       "      <td> 14.87</td>\n",
       "      <td> 162.42</td>\n",
       "      <td> 63.59</td>\n",
       "      <td> 25.89</td>\n",
       "      <td> 60.14</td>\n",
       "      <td> 1162.27</td>\n",
       "      <td> 71.84</td>\n",
       "    </tr>\n",
       "    <tr>\n",
       "      <th>2011-09-13</th>\n",
       "      <td> 11.63</td>\n",
       "      <td> 384.62</td>\n",
       "      <td> 15.26</td>\n",
       "      <td> 163.43</td>\n",
       "      <td> 63.61</td>\n",
       "      <td> 26.04</td>\n",
       "      <td> 60.54</td>\n",
       "      <td> 1172.87</td>\n",
       "      <td> 71.65</td>\n",
       "    </tr>\n",
       "    <tr>\n",
       "      <th>2011-09-14</th>\n",
       "      <td> 11.73</td>\n",
       "      <td> 389.30</td>\n",
       "      <td> 15.64</td>\n",
       "      <td> 167.24</td>\n",
       "      <td> 63.73</td>\n",
       "      <td> 26.50</td>\n",
       "      <td> 61.58</td>\n",
       "      <td> 1188.68</td>\n",
       "      <td> 72.64</td>\n",
       "    </tr>\n",
       "    <tr>\n",
       "      <th>2011-09-15</th>\n",
       "      <td> 11.98</td>\n",
       "      <td> 392.96</td>\n",
       "      <td> 16.08</td>\n",
       "      <td> 170.09</td>\n",
       "      <td> 64.40</td>\n",
       "      <td> 26.99</td>\n",
       "      <td> 63.22</td>\n",
       "      <td> 1209.11</td>\n",
       "      <td> 74.01</td>\n",
       "    </tr>\n",
       "    <tr>\n",
       "      <th>2011-09-16</th>\n",
       "      <td> 11.97</td>\n",
       "      <td> 400.50</td>\n",
       "      <td> 16.33</td>\n",
       "      <td> 172.99</td>\n",
       "      <td> 64.59</td>\n",
       "      <td> 27.12</td>\n",
       "      <td> 62.05</td>\n",
       "      <td> 1216.01</td>\n",
       "      <td> 74.55</td>\n",
       "    </tr>\n",
       "    <tr>\n",
       "      <th>2011-09-19</th>\n",
       "      <td> 11.58</td>\n",
       "      <td> 411.63</td>\n",
       "      <td> 16.18</td>\n",
       "      <td> 173.13</td>\n",
       "      <td> 64.14</td>\n",
       "      <td> 27.21</td>\n",
       "      <td> 60.56</td>\n",
       "      <td> 1204.09</td>\n",
       "      <td> 73.70</td>\n",
       "    </tr>\n",
       "    <tr>\n",
       "      <th>2011-09-20</th>\n",
       "      <td> 11.25</td>\n",
       "      <td> 413.45</td>\n",
       "      <td> 16.04</td>\n",
       "      <td> 174.72</td>\n",
       "      <td> 64.22</td>\n",
       "      <td> 26.98</td>\n",
       "      <td> 60.39</td>\n",
       "      <td> 1202.09</td>\n",
       "      <td> 74.01</td>\n",
       "    </tr>\n",
       "    <tr>\n",
       "      <th>2011-09-21</th>\n",
       "      <td> 10.84</td>\n",
       "      <td> 412.14</td>\n",
       "      <td> 15.38</td>\n",
       "      <td> 173.02</td>\n",
       "      <td> 63.13</td>\n",
       "      <td> 25.99</td>\n",
       "      <td> 60.79</td>\n",
       "      <td> 1166.76</td>\n",
       "      <td> 71.97</td>\n",
       "    </tr>\n",
       "    <tr>\n",
       "      <th>2011-09-22</th>\n",
       "      <td> 10.11</td>\n",
       "      <td> 401.82</td>\n",
       "      <td> 15.04</td>\n",
       "      <td> 168.62</td>\n",
       "      <td> 61.92</td>\n",
       "      <td> 25.06</td>\n",
       "      <td> 60.92</td>\n",
       "      <td> 1129.56</td>\n",
       "      <td> 69.24</td>\n",
       "    </tr>\n",
       "    <tr>\n",
       "      <th>2011-09-23</th>\n",
       "      <td> 10.07</td>\n",
       "      <td> 404.30</td>\n",
       "      <td> 15.21</td>\n",
       "      <td> 169.34</td>\n",
       "      <td> 61.59</td>\n",
       "      <td> 25.06</td>\n",
       "      <td> 60.34</td>\n",
       "      <td> 1136.43</td>\n",
       "      <td> 69.31</td>\n",
       "    </tr>\n",
       "    <tr>\n",
       "      <th>2011-09-26</th>\n",
       "      <td> 10.45</td>\n",
       "      <td> 403.17</td>\n",
       "      <td> 15.57</td>\n",
       "      <td> 174.51</td>\n",
       "      <td> 62.69</td>\n",
       "      <td> 25.44</td>\n",
       "      <td> 61.89</td>\n",
       "      <td> 1162.95</td>\n",
       "      <td> 71.72</td>\n",
       "    </tr>\n",
       "    <tr>\n",
       "      <th>2011-09-27</th>\n",
       "      <td> 10.48</td>\n",
       "      <td> 399.26</td>\n",
       "      <td> 15.76</td>\n",
       "      <td> 177.71</td>\n",
       "      <td> 63.82</td>\n",
       "      <td> 25.67</td>\n",
       "      <td> 62.43</td>\n",
       "      <td> 1175.38</td>\n",
       "      <td> 72.91</td>\n",
       "    </tr>\n",
       "    <tr>\n",
       "      <th>2011-09-28</th>\n",
       "      <td>  9.97</td>\n",
       "      <td> 397.01</td>\n",
       "      <td> 15.45</td>\n",
       "      <td> 177.55</td>\n",
       "      <td> 63.25</td>\n",
       "      <td> 25.58</td>\n",
       "      <td> 61.97</td>\n",
       "      <td> 1151.06</td>\n",
       "      <td> 72.07</td>\n",
       "    </tr>\n",
       "    <tr>\n",
       "      <th>2011-09-29</th>\n",
       "      <td> 10.06</td>\n",
       "      <td> 390.57</td>\n",
       "      <td> 15.86</td>\n",
       "      <td> 179.17</td>\n",
       "      <td> 63.90</td>\n",
       "      <td> 25.45</td>\n",
       "      <td> 62.58</td>\n",
       "      <td> 1160.40</td>\n",
       "      <td> 73.88</td>\n",
       "    </tr>\n",
       "    <tr>\n",
       "      <th>2011-09-30</th>\n",
       "      <td>  9.57</td>\n",
       "      <td> 381.32</td>\n",
       "      <td> 15.22</td>\n",
       "      <td> 174.87</td>\n",
       "      <td> 63.69</td>\n",
       "      <td> 24.89</td>\n",
       "      <td> 61.90</td>\n",
       "      <td> 1131.42</td>\n",
       "      <td> 72.63</td>\n",
       "    </tr>\n",
       "    <tr>\n",
       "      <th>2011-10-03</th>\n",
       "      <td>  8.90</td>\n",
       "      <td> 374.60</td>\n",
       "      <td> 14.69</td>\n",
       "      <td> 173.29</td>\n",
       "      <td> 62.08</td>\n",
       "      <td> 24.53</td>\n",
       "      <td> 60.29</td>\n",
       "      <td> 1099.23</td>\n",
       "      <td> 71.15</td>\n",
       "    </tr>\n",
       "    <tr>\n",
       "      <th>2011-10-04</th>\n",
       "      <td>  9.12</td>\n",
       "      <td> 372.50</td>\n",
       "      <td> 14.86</td>\n",
       "      <td> 174.74</td>\n",
       "      <td> 62.17</td>\n",
       "      <td> 25.34</td>\n",
       "      <td> 60.45</td>\n",
       "      <td> 1123.95</td>\n",
       "      <td> 72.83</td>\n",
       "    </tr>\n",
       "    <tr>\n",
       "      <th>2011-10-05</th>\n",
       "      <td>  9.37</td>\n",
       "      <td> 378.25</td>\n",
       "      <td> 15.27</td>\n",
       "      <td> 176.85</td>\n",
       "      <td> 62.35</td>\n",
       "      <td> 25.89</td>\n",
       "      <td> 60.29</td>\n",
       "      <td> 1144.03</td>\n",
       "      <td> 73.95</td>\n",
       "    </tr>\n",
       "    <tr>\n",
       "      <th>2011-10-06</th>\n",
       "      <td>  9.88</td>\n",
       "      <td> 377.37</td>\n",
       "      <td> 15.53</td>\n",
       "      <td> 181.69</td>\n",
       "      <td> 62.81</td>\n",
       "      <td> 26.34</td>\n",
       "      <td> 60.57</td>\n",
       "      <td> 1164.97</td>\n",
       "      <td> 73.89</td>\n",
       "    </tr>\n",
       "    <tr>\n",
       "      <th>2011-10-07</th>\n",
       "      <td>  9.71</td>\n",
       "      <td> 369.80</td>\n",
       "      <td> 15.50</td>\n",
       "      <td> 182.39</td>\n",
       "      <td> 63.13</td>\n",
       "      <td> 26.25</td>\n",
       "      <td> 61.02</td>\n",
       "      <td> 1155.46</td>\n",
       "      <td> 73.56</td>\n",
       "    </tr>\n",
       "    <tr>\n",
       "      <th>2011-10-10</th>\n",
       "      <td> 10.09</td>\n",
       "      <td> 388.81</td>\n",
       "      <td> 16.14</td>\n",
       "      <td> 186.62</td>\n",
       "      <td> 64.43</td>\n",
       "      <td> 26.94</td>\n",
       "      <td> 61.87</td>\n",
       "      <td> 1194.89</td>\n",
       "      <td> 76.28</td>\n",
       "    </tr>\n",
       "    <tr>\n",
       "      <th>2011-10-11</th>\n",
       "      <td> 10.30</td>\n",
       "      <td> 400.29</td>\n",
       "      <td> 16.14</td>\n",
       "      <td> 185.00</td>\n",
       "      <td> 63.96</td>\n",
       "      <td> 27.00</td>\n",
       "      <td> 60.95</td>\n",
       "      <td> 1195.54</td>\n",
       "      <td> 76.27</td>\n",
       "    </tr>\n",
       "    <tr>\n",
       "      <th>2011-10-12</th>\n",
       "      <td> 10.05</td>\n",
       "      <td> 402.19</td>\n",
       "      <td> 16.40</td>\n",
       "      <td> 186.12</td>\n",
       "      <td> 64.33</td>\n",
       "      <td> 26.96</td>\n",
       "      <td> 62.70</td>\n",
       "      <td> 1207.25</td>\n",
       "      <td> 77.16</td>\n",
       "    </tr>\n",
       "    <tr>\n",
       "      <th>2011-10-13</th>\n",
       "      <td> 10.10</td>\n",
       "      <td> 408.43</td>\n",
       "      <td> 16.22</td>\n",
       "      <td> 186.82</td>\n",
       "      <td> 64.23</td>\n",
       "      <td> 27.18</td>\n",
       "      <td> 62.36</td>\n",
       "      <td> 1203.66</td>\n",
       "      <td> 76.37</td>\n",
       "    </tr>\n",
       "    <tr>\n",
       "      <th>2011-10-14</th>\n",
       "      <td> 10.26</td>\n",
       "      <td> 422.00</td>\n",
       "      <td> 16.60</td>\n",
       "      <td> 190.53</td>\n",
       "      <td> 64.72</td>\n",
       "      <td> 27.27</td>\n",
       "      <td> 62.24</td>\n",
       "      <td> 1224.58</td>\n",
       "      <td> 78.11</td>\n",
       "    </tr>\n",
       "  </tbody>\n",
       "</table>\n",
       "<p>1000 rows × 9 columns</p>\n",
       "</div>"
      ],
      "text/plain": [
       "               AA    AAPL     GE     IBM    JNJ   MSFT    PEP      SPX    XOM\n",
       "2007-10-29  37.41  185.09  34.46  106.78  57.13  31.78  65.67  1540.98  85.51\n",
       "2007-10-30  36.43  187.00  34.39  106.15  56.99  32.70  65.80  1531.02  83.25\n",
       "2007-10-31  36.79  189.95  34.97  108.01  57.30  33.84  65.69  1549.38  84.03\n",
       "2007-11-01  35.22  187.44  34.27  105.72  56.85  34.07  64.51  1508.44  80.84\n",
       "2007-11-02  35.83  187.87  34.27  106.59  56.95  34.07  65.03  1509.65  80.32\n",
       "2007-11-05  35.22  186.18  34.15  105.48  56.70  33.77  64.84  1502.17  80.07\n",
       "2007-11-06  35.84  191.79  34.14  105.27  56.80  33.47  65.49  1520.27  82.56\n",
       "2007-11-07  34.76  186.30  33.20  103.69  56.19  32.65  64.46  1475.62  79.96\n",
       "2007-11-08  35.00  175.47  33.15   99.05  56.79  31.94  65.50  1474.77  82.00\n",
       "2007-11-09  34.47  165.37  32.61   93.58  57.29  31.01  65.48  1453.70  79.64\n",
       "2007-11-12  33.33  153.76  32.50   94.70  58.30  30.69  64.67  1439.18  77.52\n",
       "2007-11-13  34.04  169.96  33.31   98.27  59.18  31.79  65.35  1481.05  79.67\n",
       "2007-11-14  34.25  166.11  33.14   96.56  58.81  31.30  65.99  1470.58  79.15\n",
       "2007-11-15  33.76  164.30  32.55   96.71  58.80  31.14  65.57  1451.15  77.48\n",
       "2007-11-16  33.74  166.39  32.84   97.82  59.56  31.44  66.08  1458.74  78.04\n",
       "2007-11-19  32.59  163.95  32.42   95.42  59.42  31.32  66.90  1433.27  77.13\n",
       "2007-11-20  32.88  168.85  32.32   96.54  59.47  31.90  66.69  1439.70  80.53\n",
       "2007-11-21  32.68  168.46  31.58   95.42  59.03  31.57  66.87  1416.77  79.82\n",
       "2007-11-23  32.66  171.54  32.01   97.13  59.16  31.46  67.29  1440.70  80.96\n",
       "2007-11-26  32.41  172.54  31.21   95.19  59.60  30.41  66.56  1407.22  78.57\n",
       "2007-11-27  32.56  174.81  31.82   96.92  59.92  30.49  67.65  1428.23  79.21\n",
       "2007-11-28  33.65  180.22  32.68  100.23  60.46  31.08  68.76  1469.02  80.62\n",
       "2007-11-29  33.97  184.29  32.40  100.35  60.51  30.98  68.20  1469.72  81.24\n",
       "2007-11-30  33.80  182.22  32.53   98.18  59.93  30.99  68.78  1481.14  81.76\n",
       "2007-12-03  32.98  178.86  31.38   98.79  59.90  30.36  68.24  1472.42  81.48\n",
       "2007-12-04  32.76  179.81  30.80   99.54  60.10  30.23  68.30  1462.79  80.81\n",
       "2007-12-05  33.09  185.50  31.19  100.97  60.34  31.50  68.30  1485.01  82.46\n",
       "2007-12-06  33.32  189.95  31.66  102.40  60.42  31.87  68.98  1507.34  83.85\n",
       "2007-12-07  34.30  194.30  31.63  101.62  59.87  31.85  68.95  1504.66  83.91\n",
       "2007-12-10  35.17  194.21  31.78  102.11  59.97  32.06  69.20  1515.96  84.39\n",
       "...           ...     ...    ...     ...    ...    ...    ...      ...    ...\n",
       "2011-09-02  12.04  374.05  15.61  166.98  64.07  25.80  63.30  1173.97  72.14\n",
       "2011-09-06  11.77  379.74  15.11  165.11  64.64  25.51  62.45  1165.24  71.15\n",
       "2011-09-07  12.25  383.93  15.65  167.31  65.43  26.00  61.62  1198.62  73.65\n",
       "2011-09-08  12.03  384.14  15.44  165.25  64.95  26.22  61.34  1185.90  72.82\n",
       "2011-09-09  11.58  377.48  14.95  161.37  63.64  25.74  59.99  1154.23  71.01\n",
       "2011-09-12  11.55  379.94  14.87  162.42  63.59  25.89  60.14  1162.27  71.84\n",
       "2011-09-13  11.63  384.62  15.26  163.43  63.61  26.04  60.54  1172.87  71.65\n",
       "2011-09-14  11.73  389.30  15.64  167.24  63.73  26.50  61.58  1188.68  72.64\n",
       "2011-09-15  11.98  392.96  16.08  170.09  64.40  26.99  63.22  1209.11  74.01\n",
       "2011-09-16  11.97  400.50  16.33  172.99  64.59  27.12  62.05  1216.01  74.55\n",
       "2011-09-19  11.58  411.63  16.18  173.13  64.14  27.21  60.56  1204.09  73.70\n",
       "2011-09-20  11.25  413.45  16.04  174.72  64.22  26.98  60.39  1202.09  74.01\n",
       "2011-09-21  10.84  412.14  15.38  173.02  63.13  25.99  60.79  1166.76  71.97\n",
       "2011-09-22  10.11  401.82  15.04  168.62  61.92  25.06  60.92  1129.56  69.24\n",
       "2011-09-23  10.07  404.30  15.21  169.34  61.59  25.06  60.34  1136.43  69.31\n",
       "2011-09-26  10.45  403.17  15.57  174.51  62.69  25.44  61.89  1162.95  71.72\n",
       "2011-09-27  10.48  399.26  15.76  177.71  63.82  25.67  62.43  1175.38  72.91\n",
       "2011-09-28   9.97  397.01  15.45  177.55  63.25  25.58  61.97  1151.06  72.07\n",
       "2011-09-29  10.06  390.57  15.86  179.17  63.90  25.45  62.58  1160.40  73.88\n",
       "2011-09-30   9.57  381.32  15.22  174.87  63.69  24.89  61.90  1131.42  72.63\n",
       "2011-10-03   8.90  374.60  14.69  173.29  62.08  24.53  60.29  1099.23  71.15\n",
       "2011-10-04   9.12  372.50  14.86  174.74  62.17  25.34  60.45  1123.95  72.83\n",
       "2011-10-05   9.37  378.25  15.27  176.85  62.35  25.89  60.29  1144.03  73.95\n",
       "2011-10-06   9.88  377.37  15.53  181.69  62.81  26.34  60.57  1164.97  73.89\n",
       "2011-10-07   9.71  369.80  15.50  182.39  63.13  26.25  61.02  1155.46  73.56\n",
       "2011-10-10  10.09  388.81  16.14  186.62  64.43  26.94  61.87  1194.89  76.28\n",
       "2011-10-11  10.30  400.29  16.14  185.00  63.96  27.00  60.95  1195.54  76.27\n",
       "2011-10-12  10.05  402.19  16.40  186.12  64.33  26.96  62.70  1207.25  77.16\n",
       "2011-10-13  10.10  408.43  16.22  186.82  64.23  27.18  62.36  1203.66  76.37\n",
       "2011-10-14  10.26  422.00  16.60  190.53  64.72  27.27  62.24  1224.58  78.11\n",
       "\n",
       "[1000 rows x 9 columns]"
      ]
     },
     "execution_count": 48,
     "metadata": {},
     "output_type": "execute_result"
    }
   ],
   "source": [
    "close_px"
   ]
  },
  {
   "cell_type": "code",
   "execution_count": 49,
   "metadata": {
    "collapsed": false
   },
   "outputs": [
    {
     "name": "stdout",
     "output_type": "stream",
     "text": [
      "2011-09-19    411.63          2011-09-12    379.94      \n",
      "2011-09-20    413.45          2011-09-13    384.62      \n",
      "2011-09-21    412.14          2011-09-14    389.30      \n",
      "2011-09-22    401.82          2011-09-15    392.96      \n",
      "2011-09-23    404.30          2011-09-16    400.50      \n",
      "2011-09-26    403.17          2011-09-19    411.63      \n",
      "2011-09-27    399.26          2011-09-20    413.45      \n",
      "2011-09-28    397.01          2011-09-21    412.14      \n",
      "2011-09-29    390.57          2011-09-22    401.82      \n",
      "2011-09-30    381.32          2011-09-23    404.30      \n",
      "2011-10-03    374.60          2011-09-26    403.17      \n",
      "2011-10-04    372.50          2011-09-27    399.26      \n",
      "2011-10-05    378.25          2011-09-28    397.01      \n",
      "2011-10-06    377.37          2011-09-29    390.57      \n",
      "2011-10-07    369.80          2011-09-30    381.32      \n",
      "2011-10-10    388.81          Name: AAPL, dtype: float64\n",
      "2011-10-11    400.29                                    \n",
      "2011-10-12    402.19                                    \n",
      "2011-10-13    408.43                                    \n",
      "2011-10-14    422.00                                    \n",
      "Name: AAPL, dtype: float64                              \n"
     ]
    }
   ],
   "source": [
    "s1 = close_px['AAPL'][-20:]\n",
    "s2 = close_px['AAPL'][-25:-10]\n",
    "side_by_side(s1, s2)"
   ]
  },
  {
   "cell_type": "code",
   "execution_count": 50,
   "metadata": {
    "collapsed": false
   },
   "outputs": [
    {
     "data": {
      "text/plain": [
       "2011-09-12       NaN\n",
       "2011-09-13       NaN\n",
       "2011-09-14       NaN\n",
       "2011-09-15       NaN\n",
       "2011-09-16       NaN\n",
       "2011-09-19    823.26\n",
       "2011-09-20    826.90\n",
       "2011-09-21    824.28\n",
       "2011-09-22    803.64\n",
       "2011-09-23    808.60\n",
       "2011-09-26    806.34\n",
       "2011-09-27    798.52\n",
       "2011-09-28    794.02\n",
       "2011-09-29    781.14\n",
       "2011-09-30    762.64\n",
       "2011-10-03       NaN\n",
       "2011-10-04       NaN\n",
       "2011-10-05       NaN\n",
       "2011-10-06       NaN\n",
       "2011-10-07       NaN\n",
       "2011-10-10       NaN\n",
       "2011-10-11       NaN\n",
       "2011-10-12       NaN\n",
       "2011-10-13       NaN\n",
       "2011-10-14       NaN\n",
       "Name: AAPL, dtype: float64"
      ]
     },
     "execution_count": 50,
     "metadata": {},
     "output_type": "execute_result"
    }
   ],
   "source": [
    "s1 + s2"
   ]
  },
  {
   "cell_type": "code",
   "execution_count": 52,
   "metadata": {
    "collapsed": false
   },
   "outputs": [
    {
     "data": {
      "text/html": [
       "<div style=\"max-height:1000px;max-width:1500px;overflow:auto;\">\n",
       "<table border=\"1\" class=\"dataframe\">\n",
       "  <thead>\n",
       "    <tr style=\"text-align: right;\">\n",
       "      <th></th>\n",
       "      <th>AA</th>\n",
       "      <th>AAPL</th>\n",
       "      <th>GE</th>\n",
       "    </tr>\n",
       "  </thead>\n",
       "  <tbody>\n",
       "    <tr>\n",
       "      <th>2011-10-03</th>\n",
       "      <td>  8.90</td>\n",
       "      <td> 374.60</td>\n",
       "      <td> 14.69</td>\n",
       "    </tr>\n",
       "    <tr>\n",
       "      <th>2011-10-04</th>\n",
       "      <td>  9.12</td>\n",
       "      <td> 372.50</td>\n",
       "      <td> 14.86</td>\n",
       "    </tr>\n",
       "    <tr>\n",
       "      <th>2011-10-05</th>\n",
       "      <td>  9.37</td>\n",
       "      <td> 378.25</td>\n",
       "      <td> 15.27</td>\n",
       "    </tr>\n",
       "    <tr>\n",
       "      <th>2011-10-06</th>\n",
       "      <td>  9.88</td>\n",
       "      <td> 377.37</td>\n",
       "      <td> 15.53</td>\n",
       "    </tr>\n",
       "    <tr>\n",
       "      <th>2011-10-07</th>\n",
       "      <td>  9.71</td>\n",
       "      <td> 369.80</td>\n",
       "      <td> 15.50</td>\n",
       "    </tr>\n",
       "    <tr>\n",
       "      <th>2011-10-10</th>\n",
       "      <td> 10.09</td>\n",
       "      <td> 388.81</td>\n",
       "      <td> 16.14</td>\n",
       "    </tr>\n",
       "    <tr>\n",
       "      <th>2011-10-11</th>\n",
       "      <td> 10.30</td>\n",
       "      <td> 400.29</td>\n",
       "      <td> 16.14</td>\n",
       "    </tr>\n",
       "    <tr>\n",
       "      <th>2011-10-12</th>\n",
       "      <td> 10.05</td>\n",
       "      <td> 402.19</td>\n",
       "      <td> 16.40</td>\n",
       "    </tr>\n",
       "    <tr>\n",
       "      <th>2011-10-13</th>\n",
       "      <td> 10.10</td>\n",
       "      <td> 408.43</td>\n",
       "      <td> 16.22</td>\n",
       "    </tr>\n",
       "    <tr>\n",
       "      <th>2011-10-14</th>\n",
       "      <td> 10.26</td>\n",
       "      <td> 422.00</td>\n",
       "      <td> 16.60</td>\n",
       "    </tr>\n",
       "  </tbody>\n",
       "</table>\n",
       "</div>"
      ],
      "text/plain": [
       "               AA    AAPL     GE\n",
       "2011-10-03   8.90  374.60  14.69\n",
       "2011-10-04   9.12  372.50  14.86\n",
       "2011-10-05   9.37  378.25  15.27\n",
       "2011-10-06   9.88  377.37  15.53\n",
       "2011-10-07   9.71  369.80  15.50\n",
       "2011-10-10  10.09  388.81  16.14\n",
       "2011-10-11  10.30  400.29  16.14\n",
       "2011-10-12  10.05  402.19  16.40\n",
       "2011-10-13  10.10  408.43  16.22\n",
       "2011-10-14  10.26  422.00  16.60"
      ]
     },
     "execution_count": 52,
     "metadata": {},
     "output_type": "execute_result"
    }
   ],
   "source": [
    "df = close_px.ix[-10:, :3]\n",
    "df"
   ]
  },
  {
   "cell_type": "code",
   "execution_count": 53,
   "metadata": {
    "collapsed": false
   },
   "outputs": [
    {
     "name": "stdout",
     "output_type": "stream",
     "text": [
      "2011-09-12       NaN          2011-09-12    379.94      \n",
      "2011-09-13       NaN          2011-09-13    384.62      \n",
      "2011-09-14       NaN          2011-09-14    389.30      \n",
      "2011-09-15       NaN          2011-09-15    392.96      \n",
      "2011-09-16       NaN          2011-09-16    400.50      \n",
      "2011-09-19    411.63          2011-09-19    411.63      \n",
      "2011-09-20    413.45          2011-09-20    413.45      \n",
      "2011-09-21    412.14          2011-09-21    412.14      \n",
      "2011-09-22    401.82          2011-09-22    401.82      \n",
      "2011-09-23    404.30          2011-09-23    404.30      \n",
      "2011-09-26    403.17          2011-09-26    403.17      \n",
      "2011-09-27    399.26          2011-09-27    399.26      \n",
      "2011-09-28    397.01          2011-09-28    397.01      \n",
      "2011-09-29    390.57          2011-09-29    390.57      \n",
      "2011-09-30    381.32          2011-09-30    381.32      \n",
      "Name: AAPL, dtype: float64    Name: AAPL, dtype: float64\n"
     ]
    }
   ],
   "source": [
    "side_by_side(s1.reindex(s2.index), s2)"
   ]
  },
  {
   "cell_type": "code",
   "execution_count": 23,
   "metadata": {
    "collapsed": false
   },
   "outputs": [],
   "source": [
    "b, c  = s1.align(s2, join='inner')\n",
    "side_by_side(b, c)"
   ]
  },
  {
   "cell_type": "code",
   "execution_count": 24,
   "metadata": {
    "collapsed": false
   },
   "outputs": [],
   "source": [
    "b, c  = s1.align(s2, join='outer')\n",
    "side_by_side(b, c)"
   ]
  },
  {
   "cell_type": "code",
   "execution_count": 25,
   "metadata": {
    "collapsed": false
   },
   "outputs": [],
   "source": [
    "b, c  = s1.align(s2, join='right')\n",
    "side_by_side(b, c)"
   ]
  },
  {
   "cell_type": "code",
   "execution_count": 26,
   "metadata": {
    "collapsed": false
   },
   "outputs": [],
   "source": [
    "df = close_px.ix[-10:, ['AAPL', 'IBM', 'MSFT']]\n",
    "df"
   ]
  },
  {
   "cell_type": "code",
   "execution_count": 27,
   "metadata": {
    "collapsed": false
   },
   "outputs": [],
   "source": [
    "df2 = df.ix[::2, ['IBM', 'MSFT']]\n",
    "side_by_side(df, df2)"
   ]
  },
  {
   "cell_type": "code",
   "execution_count": 28,
   "metadata": {
    "collapsed": false
   },
   "outputs": [],
   "source": [
    "df + df2"
   ]
  },
  {
   "cell_type": "code",
   "execution_count": 29,
   "metadata": {
    "collapsed": false
   },
   "outputs": [],
   "source": [
    "b, c = df.align(df2, join='inner')\n",
    "side_by_side(b, c) "
   ]
  },
  {
   "cell_type": "markdown",
   "metadata": {},
   "source": [
    "Transposing: no copy if all columns are same type\n",
    "-------------------------------------------------"
   ]
  },
  {
   "cell_type": "code",
   "execution_count": 30,
   "metadata": {
    "collapsed": false
   },
   "outputs": [],
   "source": [
    "df[:5].T"
   ]
  },
  {
   "cell_type": "markdown",
   "metadata": {},
   "source": [
    "Columns can be any type\n",
    "-----------------------"
   ]
  },
  {
   "cell_type": "code",
   "execution_count": 31,
   "metadata": {
    "collapsed": false
   },
   "outputs": [],
   "source": [
    "n = 10\n",
    "foo = DataFrame(index=range(n))\n",
    "foo['floats'] = np.random.randn(n)\n",
    "foo['ints'] = np.arange(n)\n",
    "foo['strings'] = ['foo', 'bar'] * (n / 2)\n",
    "foo['bools'] = foo['floats'] > 0\n",
    "foo['objects'] = DateRange('1/1/2000', periods=n)\n",
    "foo"
   ]
  },
  {
   "cell_type": "code",
   "execution_count": 32,
   "metadata": {
    "collapsed": false
   },
   "outputs": [],
   "source": [
    "foo.dtypes"
   ]
  },
  {
   "cell_type": "markdown",
   "metadata": {},
   "source": [
    "N.B. transposing is not roundtrippable in this case (column-oriented data structure)"
   ]
  },
  {
   "cell_type": "code",
   "execution_count": 33,
   "metadata": {
    "collapsed": false
   },
   "outputs": [],
   "source": [
    "foo.T.T"
   ]
  },
  {
   "cell_type": "code",
   "execution_count": 34,
   "metadata": {
    "collapsed": false
   },
   "outputs": [],
   "source": [
    "foo.T.T.dtypes"
   ]
  },
  {
   "cell_type": "markdown",
   "metadata": {},
   "source": [
    "Function application\n",
    "====================\n",
    "\n",
    "You can apply arbitrary functions to the rows or columns of a DataFrame"
   ]
  },
  {
   "cell_type": "code",
   "execution_count": 35,
   "metadata": {
    "collapsed": false
   },
   "outputs": [],
   "source": [
    "df.apply(np.mean)"
   ]
  },
  {
   "cell_type": "code",
   "execution_count": 36,
   "metadata": {
    "collapsed": false
   },
   "outputs": [],
   "source": [
    "df.apply(np.mean, axis=1)"
   ]
  },
  {
   "cell_type": "markdown",
   "metadata": {},
   "source": [
    "You can get as fancy as you want"
   ]
  },
  {
   "cell_type": "code",
   "execution_count": 37,
   "metadata": {
    "collapsed": false
   },
   "outputs": [],
   "source": [
    "close_px"
   ]
  },
  {
   "cell_type": "code",
   "execution_count": 38,
   "metadata": {
    "collapsed": false
   },
   "outputs": [],
   "source": [
    "def peak_date(series):\n",
    "    return series.index[series.argmax()]\n",
    "close_px.apply(peak_date)"
   ]
  },
  {
   "cell_type": "code",
   "execution_count": 39,
   "metadata": {
    "collapsed": false
   },
   "outputs": [],
   "source": [
    "df.apply(lambda x: x.max() - x.min()) # np.ptp"
   ]
  },
  {
   "cell_type": "code",
   "execution_count": 40,
   "metadata": {
    "collapsed": false
   },
   "outputs": [],
   "source": [
    "np.log(close_px)"
   ]
  },
  {
   "cell_type": "markdown",
   "metadata": {},
   "source": [
    "Plotting\n",
    "========\n",
    "\n",
    "Some basic plotting integration with matplotlib in Series / DataFrame"
   ]
  },
  {
   "cell_type": "code",
   "execution_count": 41,
   "metadata": {
    "collapsed": false
   },
   "outputs": [],
   "source": [
    "close_px[['AAPL', 'IBM', 'MSFT', 'XOM']].plot()"
   ]
  },
  {
   "cell_type": "code",
   "execution_count": 42,
   "metadata": {
    "collapsed": false
   },
   "outputs": [],
   "source": [
    "rets.ix[-1]"
   ]
  },
  {
   "cell_type": "code",
   "execution_count": 43,
   "metadata": {
    "collapsed": false
   },
   "outputs": [],
   "source": [
    "close_px.ix[-1].plot(kind='bar')\n",
    "title('Prices on %s' % close_px.index[-1])\n",
    "axhline(0)"
   ]
  },
  {
   "cell_type": "markdown",
   "metadata": {},
   "source": [
    "Hierarchical indexing\n",
    "---------------------"
   ]
  },
  {
   "cell_type": "code",
   "execution_count": 44,
   "metadata": {
    "collapsed": false
   },
   "outputs": [],
   "source": [
    "index = MultiIndex(levels=[['foo', 'bar', 'baz', 'qux'],\n",
    "                                   ['one', 'two', 'three']],\n",
    "                           labels=[[0, 0, 0, 1, 1, 2, 2, 3, 3, 3],\n",
    "                                   [0, 1, 2, 0, 1, 1, 2, 0, 1, 2]])\n",
    "hdf = DataFrame(np.random.randn(10, 3), index=index,\n",
    "                columns=['A', 'B', 'C'])\n",
    "hdf"
   ]
  },
  {
   "cell_type": "code",
   "execution_count": 45,
   "metadata": {
    "collapsed": false
   },
   "outputs": [],
   "source": [
    "hdf.ix['foo']"
   ]
  },
  {
   "cell_type": "code",
   "execution_count": 46,
   "metadata": {
    "collapsed": false
   },
   "outputs": [],
   "source": [
    "hdf.ix['foo'] = 0\n",
    "hdf"
   ]
  },
  {
   "cell_type": "code",
   "execution_count": 47,
   "metadata": {
    "collapsed": false
   },
   "outputs": [],
   "source": [
    "hdf.ix['foo', 'three']"
   ]
  },
  {
   "cell_type": "markdown",
   "metadata": {},
   "source": [
    "Stacking and unstacking\n",
    "-----------------------"
   ]
  },
  {
   "cell_type": "code",
   "execution_count": 48,
   "metadata": {
    "collapsed": false
   },
   "outputs": [],
   "source": [
    "tuples = zip(*[['bar', 'bar', 'baz', 'baz',\n",
    "                'foo', 'foo', 'qux', 'qux'],\n",
    "               ['one', 'two', 'one', 'two',\n",
    "                'one', 'two', 'one', 'two']])\n",
    "index = MultiIndex.from_tuples(tuples)\n",
    "columns = MultiIndex.from_tuples([('A', 'cat'), ('B', 'dog'),\n",
    "                                  ('B', 'cat'), ('A', 'dog')])\n",
    "df = DataFrame(randn(8, 4), index=index, columns=columns)\n",
    "df"
   ]
  },
  {
   "cell_type": "code",
   "execution_count": 49,
   "metadata": {
    "collapsed": false
   },
   "outputs": [],
   "source": [
    "df2 = df.ix[[0, 1, 2, 4, 5, 7]]\n",
    "df2"
   ]
  },
  {
   "cell_type": "code",
   "execution_count": 50,
   "metadata": {
    "collapsed": false
   },
   "outputs": [],
   "source": [
    "df.unstack()['B']"
   ]
  },
  {
   "cell_type": "markdown",
   "metadata": {},
   "source": [
    "GroupBy\n",
    "======="
   ]
  },
  {
   "cell_type": "code",
   "execution_count": 51,
   "metadata": {
    "collapsed": false
   },
   "outputs": [],
   "source": [
    "df = DataFrame({'A' : ['foo', 'bar', 'foo', 'bar',\n",
    "                       'foo', 'bar', 'foo', 'foo'],\n",
    "                'B' : ['one', 'one', 'two', 'three',\n",
    "                       'two', 'two', 'one', 'three'],\n",
    "                'C' : np.random.randn(8),\n",
    "                'D' : np.random.randn(8)})\n",
    "df"
   ]
  },
  {
   "cell_type": "code",
   "execution_count": 52,
   "metadata": {
    "collapsed": false
   },
   "outputs": [],
   "source": [
    "for key, group in df.groupby('A'):\n",
    "    print key\n",
    "    print group"
   ]
  },
  {
   "cell_type": "code",
   "execution_count": 53,
   "metadata": {
    "collapsed": false
   },
   "outputs": [],
   "source": [
    "df.groupby('A')['C'].describe().T"
   ]
  },
  {
   "cell_type": "code",
   "execution_count": 54,
   "metadata": {
    "collapsed": false
   },
   "outputs": [],
   "source": [
    "df.groupby('A').mean()"
   ]
  },
  {
   "cell_type": "code",
   "execution_count": 55,
   "metadata": {
    "collapsed": false
   },
   "outputs": [],
   "source": [
    "for key, group in df.groupby('A'):\n",
    "    print key\n",
    "    print group"
   ]
  },
  {
   "cell_type": "code",
   "execution_count": 56,
   "metadata": {
    "collapsed": false
   },
   "outputs": [],
   "source": [
    "df.groupby(['A', 'B']).mean()"
   ]
  },
  {
   "cell_type": "code",
   "execution_count": 57,
   "metadata": {
    "collapsed": false
   },
   "outputs": [],
   "source": [
    "df.groupby(['A', 'B'], as_index=False).mean()"
   ]
  },
  {
   "cell_type": "markdown",
   "metadata": {},
   "source": [
    "GroupBy example: linear regression by group\n",
    "-------------------------------------------"
   ]
  },
  {
   "cell_type": "code",
   "execution_count": 58,
   "metadata": {
    "collapsed": false
   },
   "outputs": [],
   "source": [
    "import scikits.statsmodels.api as sm\n",
    "rets = close_px / close_px.shift(1) - 1\n",
    "\n",
    "def get_beta(rets):\n",
    "    rets = rets.dropna()\n",
    "    rets['intercept'] = 1.\n",
    "    model = sm.OLS(rets['MSFT'], rets.ix[:, ['AAPL', 'intercept']]).fit()\n",
    "    return model.params\n",
    "\n",
    "get_beta(rets)"
   ]
  },
  {
   "cell_type": "code",
   "execution_count": 59,
   "metadata": {
    "collapsed": false
   },
   "outputs": [],
   "source": [
    "grouped = rets.groupby([lambda x: x.year, lambda x: x.month])\n",
    "beta_by_ym = grouped.apply(get_beta)\n",
    "beta_by_ym"
   ]
  },
  {
   "cell_type": "code",
   "execution_count": 60,
   "metadata": {
    "collapsed": false
   },
   "outputs": [],
   "source": [
    "beta_by_ym.unstack(0)['AAPL']"
   ]
  },
  {
   "cell_type": "markdown",
   "metadata": {},
   "source": [
    "GroupBy with hierarchical indexing\n",
    "----------------------------------"
   ]
  },
  {
   "cell_type": "code",
   "execution_count": 61,
   "metadata": {
    "collapsed": false
   },
   "outputs": [],
   "source": [
    "tuples = zip(*[['bar', 'bar', 'baz', 'baz',\n",
    "                'foo', 'foo', 'qux', 'qux'],\n",
    "               ['one', 'two', 'one', 'two',\n",
    "                'one', 'two', 'one', 'two']])\n",
    "index = MultiIndex.from_tuples(tuples)\n",
    "columns = MultiIndex.from_tuples([('A', 'cat'), ('B', 'dog'),\n",
    "                                  ('B', 'cat'), ('A', 'dog')])\n",
    "df = DataFrame(randn(8, 4), index=index, columns=columns)\n",
    "df"
   ]
  },
  {
   "cell_type": "code",
   "execution_count": 62,
   "metadata": {
    "collapsed": false
   },
   "outputs": [],
   "source": [
    "df.groupby(level=0, axis=0).mean()"
   ]
  },
  {
   "cell_type": "code",
   "execution_count": 63,
   "metadata": {
    "collapsed": false
   },
   "outputs": [],
   "source": [
    "df.stack()"
   ]
  },
  {
   "cell_type": "code",
   "execution_count": 64,
   "metadata": {
    "collapsed": false
   },
   "outputs": [],
   "source": [
    "df.stack().mean(1).unstack()"
   ]
  },
  {
   "cell_type": "code",
   "execution_count": 65,
   "metadata": {
    "collapsed": false
   },
   "outputs": [],
   "source": [
    "# could also have done\n",
    "df.groupby(level=1, axis=1).mean()"
   ]
  },
  {
   "cell_type": "code",
   "execution_count": null,
   "metadata": {
    "collapsed": true
   },
   "outputs": [],
   "source": []
  }
 ],
 "metadata": {
  "kernelspec": {
   "display_name": "Python 2",
   "language": "python",
   "name": "python2"
  },
  "language_info": {
   "codemirror_mode": {
    "name": "ipython",
    "version": 2
   },
   "file_extension": ".py",
   "mimetype": "text/x-python",
   "name": "python",
   "nbconvert_exporter": "python",
   "pygments_lexer": "ipython2",
   "version": "2.7.9"
  }
 },
 "nbformat": 4,
 "nbformat_minor": 0
}
